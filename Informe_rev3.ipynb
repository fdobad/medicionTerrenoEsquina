{
 "cells": [
  {
   "cell_type": "markdown",
   "id": "julian-relative",
   "metadata": {},
   "source": [
    "# Resumen ejecutivo\n",
    "\n",
    "Se realizó estudio para dirimir los bordes de un predio en disputa entre vecinos. Se asistió a visita en terreno, donde se midió -huincha en mano, en conjunto y supervisión de ambas partes interesadas los deslindes actuales del mismo. Esta medición conjunta arroja una superficie (~0.4há) menor a la documentación legal (3,5há).\n",
    "\n",
    "Tomando adicionalmente en consideración las escrituras de compraventa y servidumbre; se determina el polígono (paralelogramo irregular) más simple que soluciona esta disputa: mover una sola esquina en 65 metros más al interior del terreno de los Señores Parra, para honrar las 3,5há que indica la realidad legal.\n",
    "\n",
    "# Antecedentes\n",
    "## Documentales\n",
    "Se muestra diagramado en el mapa y la foto satelital correspondiente a la zona general donde se encuentra inserto el predio y su servidumbre. El mapa corresponde al documento legal ____ .\n",
    "\n",
    "![ZonaGeneral](doc/ParcelacionSantaRaquel/diagramaGeneral.jpg)\n",
    "(/home/fdo/Documents/medicionTerreno/)\n",
    "- Como refleja el documento legal de servidumbre ___ esta fue otorgada por la parcela 5 con una franja de 6 metros de ancho \"...hasta el lugar vértice del deslinde Norte Oriente del mismo predio\"\n",
    " - Como refleja el documento legar de compraventa ___ la superficie del predio son 3,5 há\n",
    "\n",
    "## Medición conjunta\n",
    "Día sábado 20 de marzo de 2021, 15:00. En conjunto entre las partes interesadas se recorrió el perímetro con una huincha de medición, determinando el perímetro \"actual\" del sitio, en particular \"bordeando el canal\" al oriente y los cercos actuales en los otros costados. Los resultados son los siguientes:  \n",
    " - Deslinde Poniente 178m\n",
    " - Deslinde Sur 85m\n",
    " - Deslinde Norte 275m\n",
    " - Deslinde Oriente 300m \"Canal\" : Esta medida es poco fiable debido a que el canal es ondulante y boscoso. Incluso árboles y leños cortados de madera en disputa impidieron el paso. Es decir, no se pudo medir en línea recta; a diferencia de los otros 3 costados que mantienen cercos suficientemente rectos y sin bosque.\n",
    "\n",
    "Proyectando estas medidas sobre la fotografía satelital de google earth en proyección 1 pixel es a 774m, se obtiene que el area actual es 31.233,36 m² ~ 3,1há (incluida adicionalmente la superficie de la servidumbre).\n",
    "\n",
    "![MedidaConjunta](img/informe2_MedidaConjunta.png)  \n",
    "(/home/fdo/Documents/medicionTerreno/)\n"
   ]
  },
  {
   "cell_type": "markdown",
   "id": "conceptual-welcome",
   "metadata": {},
   "source": [
    "# Solucion propuesta\n",
    "Se proyecta la servidumbre -6 metros paralela al deslinde sur medido;\n",
    "Y conservando ambos cercos de los deslindes poniente y norte, se determina la forma de un terreno de 3,5há.\n",
    "Donde por simplicidad de implementación, sólo se modifica la esquina Sur Oriente, para mantener los limites actuales encontrados en la medición conjunta. La proyección es la siguiente:\n",
    "\n",
    "![MedidaConjunta](img/informe2_MedidaConjunta.png) "
   ]
  }
 ],
 "metadata": {
  "kernelspec": {
   "display_name": "Python 3",
   "language": "python",
   "name": "python3"
  },
  "language_info": {
   "codemirror_mode": {
    "name": "ipython",
    "version": 3
   },
   "file_extension": ".py",
   "mimetype": "text/x-python",
   "name": "python",
   "nbconvert_exporter": "python",
   "pygments_lexer": "ipython3",
   "version": "3.9.2"
  }
 },
 "nbformat": 4,
 "nbformat_minor": 5
}

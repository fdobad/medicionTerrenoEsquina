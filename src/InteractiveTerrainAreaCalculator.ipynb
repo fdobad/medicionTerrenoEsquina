{
 "cells": [
  {
   "cell_type": "code",
   "execution_count": 1,
   "id": "powered-slope",
   "metadata": {},
   "outputs": [],
   "source": [
    "# usign tk backend\n",
    "%matplotlib tk\n",
    "import numpy as np\n",
    "import matplotlib.pyplot as plt\n",
    "from matplotlib.widgets import PolygonSelector\n",
    "from matplotlib.path import Path\n",
    "import PIL\n",
    "# helper functions\n",
    "edgeText = []\n",
    "#vertText = []\n",
    "titleText = None\n",
    "def onselect(points):\n",
    "    '''PolygonSelector callback: calculate distances & show edge, verts & area stats\n",
    "    '''\n",
    "    global vertText, edgeText, titleText\n",
    "    #assert points==ps.verts\n",
    "    points = np.array(points)\n",
    "    n=len(points)\n",
    "    distances = [ np.round(np.linalg.norm( points[i] - points[ (i+1)%n ] ),1) for i in range(n) ]\n",
    "    if not edgeText is []:\n",
    "        [ t.remove() for t in edgeText ]\n",
    "    edgeText = [ ax.text( *(points[i]+points[ (i+1)%n ])/2 , distances[i] , color='r') for i in range(n) ]\n",
    "    #if not vertText is []:\n",
    "    #    [ t.remove() for t in vertText ]\n",
    "    #vertText = [ ax.text( *points[i] , f\"{i}:{np.round(points[i],2)}\" , color='r') for i in range(n) ]\n",
    "    if not titleText is None:\n",
    "        titleText.remove()\n",
    "    titleText = ax.text( 0,-5, f\"area: {np.round(polygonArea(points),2)}\" , va='top', color='r')\n",
    "\n",
    "def polygonArea(poly):\n",
    "    '''Points should be anticlockwise ordered\n",
    "    '''\n",
    "    n=len(poly)\n",
    "    assert poly.shape[1]==2\n",
    "    area=0\n",
    "    for i in range(n):\n",
    "        area+=np.linalg.det( [poly[i].T,poly[(i+1)%n].T] )\n",
    "    a = area/2\n",
    "    b = sum([ np.linalg.det( [poly[i].T,poly[(i+1)%n].T] ) for i in range(len(poly)) ])/2\n",
    "    assert abs(a-b)<1e-15\n",
    "    return b\n",
    "\n",
    "def triangleArea(a,b,c):\n",
    "    ''' Triangle area knowing sides\n",
    "    Heron's Formula\n",
    "    '''\n",
    "    s = a+b+c\n",
    "    return np.sqrt(s*(s-a)*(s-b)*(s-c))"
   ]
  },
  {
   "cell_type": "markdown",
   "id": "associate-background",
   "metadata": {},
   "source": [
    "# Adjust the google earth image to 1m == 1 (matplotlib data) point"
   ]
  },
  {
   "cell_type": "code",
   "execution_count": 2,
   "id": "military-strengthening",
   "metadata": {},
   "outputs": [],
   "source": [
    "img=PIL.Image.open('terrenobase.png')\n",
    "px_width, px_height = img.size\n",
    "# diagonal meters. Check \"camera\" legend in image\n",
    "m_diag = 774\n",
    "# Side meters follow the image w/h ratio\n",
    "m_width = np.sqrt(m_diag**2 / ((px_height/px_width)**2+1))\n",
    "m_height =np.sqrt(m_diag**2 / ((px_width/px_height)**2+1))\n",
    "# Verify\n",
    "# Calculated sides make a squared-angle triangle\n",
    "assert abs( m_diag - np.sqrt(m_width**2+m_height**2) ) < 1e-15\n",
    "# Calculated sides yield the same proportion\n",
    "assert abs( m_width/m_height - px_width/px_height ) < 1e-15\n",
    "#"
   ]
  },
  {
   "cell_type": "code",
   "execution_count": 3,
   "id": "constant-architect",
   "metadata": {},
   "outputs": [],
   "source": [
    "# BEGIN manually adjusting\n",
    "# Image position to align the bottom left corner of region of interest to 0,0\n",
    "left, right, bottom, top  = -125, 541, -43, 348\n",
    "# Verify the selected numbers resize the image to 1 m == 1 data point\n",
    "assert right-left - m_width < 1\n",
    "assert top - bottom - m_height < 1"
   ]
  },
  {
   "cell_type": "markdown",
   "id": "small-dynamics",
   "metadata": {},
   "source": [
    "# Show figure"
   ]
  },
  {
   "cell_type": "code",
   "execution_count": 47,
   "id": "focal-dominican",
   "metadata": {},
   "outputs": [],
   "source": [
    "plt.close('all')\n",
    "plt.ioff()\n",
    "fig, ax = plt.subplots()\n",
    "imshow=ax.imshow(img, extent=(left, right, bottom, top))"
   ]
  },
  {
   "cell_type": "raw",
   "id": "minimal-words",
   "metadata": {},
   "source": [
    "imshow.remove()\n",
    "# END manually adjusting"
   ]
  },
  {
   "cell_type": "markdown",
   "id": "center-fellow",
   "metadata": {},
   "source": [
    "# Make the Polygon Selector"
   ]
  },
  {
   "cell_type": "code",
   "execution_count": 48,
   "id": "raised-report",
   "metadata": {},
   "outputs": [
    {
     "name": "stdout",
     "output_type": "stream",
     "text": [
      "Select points in the figure by enclosing them within a polygon.\n",
      "Press the 'esc' key to start a new polygon.\n",
      "Try holding the 'shift' key to move all of the vertices.\n",
      "Try holding the 'ctrl' key to move a single vertex.\n"
     ]
    }
   ],
   "source": [
    "ps = PolygonSelector(ax, onselect, useblit=False, \n",
    "                     lineprops=dict(color='red', linestyle='--', linewidth=3, alpha=0.4)\n",
    "                     , markerprops=dict(marker='o', markersize=6, mec='red', mfc='white', alpha=0.3),\n",
    "                     vertex_select_radius=15)\n",
    "\n",
    "print(\"Select points in the figure by enclosing them within a polygon.\")\n",
    "print(\"Press the 'esc' key to start a new polygon.\")\n",
    "print(\"Try holding the 'shift' key to move all of the vertices.\")\n",
    "print(\"Try holding the 'ctrl' key to move a single vertex.\")\n",
    "\n",
    "#plt.show()"
   ]
  },
  {
   "cell_type": "markdown",
   "id": "parallel-genre",
   "metadata": {},
   "source": [
    "# Helpers to get live figure data"
   ]
  },
  {
   "cell_type": "code",
   "execution_count": null,
   "id": "effective-proposal",
   "metadata": {},
   "outputs": [],
   "source": [
    "# points\n",
    "ps.verts"
   ]
  },
  {
   "cell_type": "code",
   "execution_count": null,
   "id": "vertical-wagon",
   "metadata": {},
   "outputs": [],
   "source": [
    "# area\n",
    "np.round(polygonArea(np.array(ps.verts)),2)"
   ]
  },
  {
   "cell_type": "code",
   "execution_count": null,
   "id": "fluid-catch",
   "metadata": {},
   "outputs": [],
   "source": [
    "# distances\n",
    "points=np.array(ps.verts)\n",
    "[ np.round(np.linalg.norm( points[i] - points[ (i+1)%4 ] ),2) for i in range(4) ]"
   ]
  },
  {
   "cell_type": "markdown",
   "id": "visible-mileage",
   "metadata": {},
   "source": [
    "# Informe 3\n",
    "## Reload previous polygon"
   ]
  },
  {
   "cell_type": "code",
   "execution_count": 7,
   "id": "affecting-package",
   "metadata": {},
   "outputs": [],
   "source": [
    "def reload(arr):\n",
    "    ps._xs, ps._ys = arr.T \n",
    "    ps.onselect(ps.verts)\n",
    "    fig.canvas.draw()\n",
    "    #plt.show()"
   ]
  },
  {
   "cell_type": "code",
   "execution_count": 8,
   "id": "detected-blind",
   "metadata": {},
   "outputs": [],
   "source": [
    "idx = { 'SurPon':0, 'SurOri':1, 'NorOri':2, 'NorPon':3 }"
   ]
  },
  {
   "cell_type": "code",
   "execution_count": 49,
   "id": "healthy-restaurant",
   "metadata": {},
   "outputs": [],
   "source": [
    "medicion_conjunta = np.array([(0.6315442868393308, -0.14402351755704057),\n",
    "                        (85.5786272609407, -3.9621101736671553),\n",
    "                        (281.23482636463547, 147.70882955020787),\n",
    "                        (7.920442067030843, 177.73478042519938),\n",
    "                        (0.6315442868393308, -0.14402351755704057)])\n",
    "reload(medicion_conjunta)"
   ]
  },
  {
   "cell_type": "markdown",
   "id": "personal-album",
   "metadata": {},
   "source": [
    "## Correccion escritura\n",
    "Fe de erratas eran 301.2 y no 321.2 metros del deslinde norte."
   ]
  },
  {
   "cell_type": "code",
   "execution_count": 50,
   "id": "curious-wagon",
   "metadata": {},
   "outputs": [],
   "source": [
    "plt.show()"
   ]
  },
  {
   "cell_type": "raw",
   "id": "uniform-jordan",
   "metadata": {},
   "source": [
    "La correccion es\n",
    "vertices: [(0.877198719103847, 5.85094553156313),\n",
    " (154.721878521693, -1.06385717269079),\n",
    " (183.65755665132798, 348.7481825616679),\n",
    " (6.987020216055263, 104.79223524407261)]\n",
    "area: 35003.14\n",
    "lados :[154.0, 351.01, 301.21, 99.13]"
   ]
  },
  {
   "cell_type": "markdown",
   "id": "superior-september",
   "metadata": {},
   "source": [
    "## Symbolic functions for handling lines, distance and area equations"
   ]
  },
  {
   "cell_type": "code",
   "execution_count": 23,
   "id": "norman-merchandise",
   "metadata": {},
   "outputs": [],
   "source": [
    "import numpy as np\n",
    "import sympy as sym"
   ]
  },
  {
   "cell_type": "code",
   "execution_count": 24,
   "id": "taken-planning",
   "metadata": {},
   "outputs": [],
   "source": [
    "x,y = sym.symbols('x,y')"
   ]
  },
  {
   "cell_type": "code",
   "execution_count": 25,
   "id": "tough-prior",
   "metadata": {},
   "outputs": [],
   "source": [
    "def line(x,y,x1,y1,x2,y2):\n",
    "    return ( y1 - y2 ) * x + ( x2 - x1 ) * y + ( x1*y2 - x2*y1 )\n",
    "def slope(p1,p2):\n",
    "    px1, py1 = p1\n",
    "    px2, py2 = p2\n",
    "    return (py2-py1)/(px2-px1)\n",
    "def mline(x,y,x1,y1,m):\n",
    "    return (y-y1) - m*(x-x1)\n",
    "def circle(x,y,x1,y1,r):\n",
    "    return (x1-x)**2+(y1-y)**2-r**2\n",
    "def area(x,y,x1,y1,x2,y2,x3,y3):\n",
    "    return 1/2*( x*y1 - x1*y  +\n",
    "                x1*y2 - x2*y1 +\n",
    "                x2*y3 - x3*y2 + \n",
    "                x3*y  -  x*y3 )"
   ]
  },
  {
   "cell_type": "markdown",
   "id": "loved-disability",
   "metadata": {},
   "source": [
    "## Encontrar el punto 6 metros hacia arriba de la esquina Sur Poniente, sobre el deslinde Poniente\n",
    "Es la interseccion entre:\n",
    " - la linea que define el deslinde poniente (definida por los puntos 1 y 2) \n",
    " - Un círculo de radio 6 centrado en la esquina Sur Poniente"
   ]
  },
  {
   "cell_type": "code",
   "execution_count": 10,
   "id": "fancy-ceremony",
   "metadata": {},
   "outputs": [],
   "source": [
    "# simplificar\n",
    "p = medicion_conjunta"
   ]
  },
  {
   "cell_type": "code",
   "execution_count": null,
   "id": "respective-dragon",
   "metadata": {},
   "outputs": [],
   "source": [
    "interseccionA = sym.solve(( \n",
    "    line(x,y,  x1 = p[idx['SurPon'],0], y1 = p[idx['SurPon'],1],\n",
    "               x2 = p[idx['NorPon'],0], y2 = p[idx['NorPon'],1]),\n",
    "    circle(x,y,x1 = p[idx['SurPon'],0], y1 = p[idx['SurPon'],1],r = 6) ), \n",
    "    (x,y))\n",
    "interseccionA"
   ]
  },
  {
   "cell_type": "code",
   "execution_count": 11,
   "id": "wanted-strategy",
   "metadata": {},
   "outputs": [
    {
     "ename": "NameError",
     "evalue": "name 'interseccionA' is not defined",
     "output_type": "error",
     "traceback": [
      "\u001b[0;31m---------------------------------------------------------------------------\u001b[0m",
      "\u001b[0;31mNameError\u001b[0m                                 Traceback (most recent call last)",
      "\u001b[0;32m<ipython-input-11-33c76a2da5d6>\u001b[0m in \u001b[0;36m<module>\u001b[0;34m\u001b[0m\n\u001b[1;32m      1\u001b[0m \u001b[0meSurPon6\u001b[0m \u001b[0;34m=\u001b[0m \u001b[0;34m(\u001b[0m\u001b[0;36m0.877198719103847\u001b[0m\u001b[0;34m,\u001b[0m \u001b[0;36m5.85094553156313\u001b[0m\u001b[0;34m)\u001b[0m\u001b[0;34m\u001b[0m\u001b[0;34m\u001b[0m\u001b[0m\n\u001b[0;32m----> 2\u001b[0;31m \u001b[0;32massert\u001b[0m \u001b[0minterseccionA\u001b[0m\u001b[0;34m[\u001b[0m\u001b[0;36m1\u001b[0m\u001b[0;34m]\u001b[0m\u001b[0;34m[\u001b[0m\u001b[0;36m0\u001b[0m\u001b[0;34m]\u001b[0m \u001b[0;34m-\u001b[0m \u001b[0meSurPon6\u001b[0m\u001b[0;34m[\u001b[0m\u001b[0;36m0\u001b[0m\u001b[0;34m]\u001b[0m \u001b[0;34m<\u001b[0m \u001b[0;36m1e-15\u001b[0m \u001b[0;32mand\u001b[0m \u001b[0minterseccionA\u001b[0m\u001b[0;34m[\u001b[0m\u001b[0;36m1\u001b[0m\u001b[0;34m]\u001b[0m\u001b[0;34m[\u001b[0m\u001b[0;36m1\u001b[0m\u001b[0;34m]\u001b[0m \u001b[0;34m-\u001b[0m \u001b[0meSurPon6\u001b[0m\u001b[0;34m[\u001b[0m\u001b[0;36m1\u001b[0m\u001b[0;34m]\u001b[0m \u001b[0;34m<\u001b[0m \u001b[0;36m1e-15\u001b[0m\u001b[0;34m\u001b[0m\u001b[0;34m\u001b[0m\u001b[0m\n\u001b[0m",
      "\u001b[0;31mNameError\u001b[0m: name 'interseccionA' is not defined"
     ]
    }
   ],
   "source": [
    "eSurPon6 = (0.877198719103847, 5.85094553156313)\n",
    "assert interseccionA[1][0] - eSurPon6[0] < 1e-15 and interseccionA[1][1] - eSurPon6[1] < 1e-15"
   ]
  },
  {
   "cell_type": "markdown",
   "id": "impressed-project",
   "metadata": {},
   "source": [
    "## Encontrar la nueva esquina Sur Oriente\n",
    "Definida sobre una línea paralela al deslinde medido en conjunto (que incluye la servidumbre), 6 metros más arriba (pasando por el punto encontrado anteriormente); hasta completar las 3,5 há."
   ]
  },
  {
   "cell_type": "code",
   "execution_count": null,
   "id": "copyrighted-colon",
   "metadata": {},
   "outputs": [],
   "source": [
    "# pendiente del deslinde medido Sur\n",
    "mS = slope(p[idx['SurOri']], p[idx['SurPon']])\n",
    "mS"
   ]
  },
  {
   "cell_type": "code",
   "execution_count": null,
   "id": "bulgarian-batch",
   "metadata": {},
   "outputs": [],
   "source": [
    "interseccionB = sym.solve(( \n",
    "    mline(x,y,x1 = eSurPon6[0], y1 = eSurPon6[1], m = mS),\n",
    "    area(x,y,x1 = p[idx['NorOri'],0], y1 = p[idx['NorOri'],1],\n",
    "             x2 = p[idx['NorPon'],0], y2 = p[idx['NorPon'],1],\n",
    "             x3 = eSurPon6[0]       , y3 = eSurPon6[1]       ) - 35000\n",
    "    ),(x,y))\n",
    "interseccionB"
   ]
  },
  {
   "cell_type": "code",
   "execution_count": 12,
   "id": "about-turkish",
   "metadata": {},
   "outputs": [
    {
     "ename": "NameError",
     "evalue": "name 'interseccionB' is not defined",
     "output_type": "error",
     "traceback": [
      "\u001b[0;31m---------------------------------------------------------------------------\u001b[0m",
      "\u001b[0;31mNameError\u001b[0m                                 Traceback (most recent call last)",
      "\u001b[0;32m<ipython-input-12-da7cc65479e3>\u001b[0m in \u001b[0;36m<module>\u001b[0;34m\u001b[0m\n\u001b[1;32m      1\u001b[0m \u001b[0meSurOri6\u001b[0m\u001b[0;34m=\u001b[0m\u001b[0;34m(\u001b[0m\u001b[0;36m148.555174812880\u001b[0m\u001b[0;34m,\u001b[0m\u001b[0;34m-\u001b[0m\u001b[0;36m0.786684510387803\u001b[0m\u001b[0;34m)\u001b[0m\u001b[0;34m\u001b[0m\u001b[0;34m\u001b[0m\u001b[0m\n\u001b[0;32m----> 2\u001b[0;31m \u001b[0;32massert\u001b[0m \u001b[0minterseccionB\u001b[0m\u001b[0;34m[\u001b[0m\u001b[0mx\u001b[0m\u001b[0;34m]\u001b[0m \u001b[0;34m-\u001b[0m \u001b[0meSurOri6\u001b[0m\u001b[0;34m[\u001b[0m\u001b[0;36m0\u001b[0m\u001b[0;34m]\u001b[0m \u001b[0;34m<\u001b[0m \u001b[0;36m1e-10\u001b[0m \u001b[0;32mand\u001b[0m \u001b[0minterseccionB\u001b[0m\u001b[0;34m[\u001b[0m\u001b[0my\u001b[0m\u001b[0;34m]\u001b[0m \u001b[0;34m-\u001b[0m \u001b[0meSurOri6\u001b[0m\u001b[0;34m[\u001b[0m\u001b[0;36m1\u001b[0m\u001b[0;34m]\u001b[0m \u001b[0;34m<\u001b[0m \u001b[0;36m1e-10\u001b[0m\u001b[0;34m\u001b[0m\u001b[0;34m\u001b[0m\u001b[0m\n\u001b[0m",
      "\u001b[0;31mNameError\u001b[0m: name 'interseccionB' is not defined"
     ]
    }
   ],
   "source": [
    "eSurOri6=(148.555174812880,-0.786684510387803)\n",
    "assert interseccionB[x] - eSurOri6[0] < 1e-10 and interseccionB[y] - eSurOri6[1] < 1e-10"
   ]
  },
  {
   "cell_type": "code",
   "execution_count": 13,
   "id": "retained-academy",
   "metadata": {},
   "outputs": [],
   "source": [
    "#idx = { 'SurPon':0, 'SurOri':1, 'NorOri':2, 'NorPon':3 }\n",
    "propuesta = np.array([ eSurPon6,\n",
    "                  eSurOri6,\n",
    "                  p[idx['NorOri']],\n",
    "                  p[idx['NorPon']],\n",
    "                  eSurPon6 ])"
   ]
  },
  {
   "cell_type": "code",
   "execution_count": 14,
   "id": "toxic-state",
   "metadata": {},
   "outputs": [
    {
     "data": {
      "text/plain": [
       "array([[  0.87719872,   5.85094553],\n",
       "       [148.55517481,  -0.78668451],\n",
       "       [281.23482636, 147.70882955],\n",
       "       [  7.92044207, 177.73478043],\n",
       "       [  0.87719872,   5.85094553]])"
      ]
     },
     "execution_count": 14,
     "metadata": {},
     "output_type": "execute_result"
    }
   ],
   "source": [
    "propuesta"
   ]
  },
  {
   "cell_type": "code",
   "execution_count": 39,
   "id": "reliable-level",
   "metadata": {},
   "outputs": [],
   "source": [
    "reload(propuesta)"
   ]
  },
  {
   "cell_type": "code",
   "execution_count": 40,
   "id": "aware-overhead",
   "metadata": {},
   "outputs": [],
   "source": [
    "plt.show()"
   ]
  },
  {
   "cell_type": "markdown",
   "id": "stopped-yugoslavia",
   "metadata": {},
   "source": [
    "## Encontrar el limite oriente de la servidumbre\n",
    "Desde el deslinde Poniente"
   ]
  },
  {
   "cell_type": "code",
   "execution_count": 26,
   "id": "anonymous-electricity",
   "metadata": {},
   "outputs": [
    {
     "data": {
      "text/plain": [
       "147.82707044289194"
      ]
     },
     "execution_count": 26,
     "metadata": {},
     "output_type": "execute_result"
    }
   ],
   "source": [
    "distancia_deslindeSur = np.linalg.norm( np.array(eSurPon6) - np.array(eSurOri6) )\n",
    "distancia_deslindeSur"
   ]
  },
  {
   "cell_type": "code",
   "execution_count": 27,
   "id": "stunning-physiology",
   "metadata": {},
   "outputs": [
    {
     "data": {
      "text/plain": [
       "[(-147.046431806937, 6.49360652439389), (148.309520380615, -6.78165355950797)]"
      ]
     },
     "execution_count": 27,
     "metadata": {},
     "output_type": "execute_result"
    }
   ],
   "source": [
    "interseccionServidumbre = sym.solve(( \n",
    "    line(x,y, x1 = p[idx['SurPon'],0], y1 = p[idx['SurPon'],1],\n",
    "               x2 = p[idx['SurOri'],0], y2 = p[idx['SurOri'],1]),\n",
    "    circle(x,y,x1 = p[idx['SurPon'],0], y1 = p[idx['SurPon'],1],r = distancia_deslindeSur) ), \n",
    "    (x,y))\n",
    "interseccionServidumbre"
   ]
  },
  {
   "cell_type": "code",
   "execution_count": 19,
   "id": "informative-labor",
   "metadata": {},
   "outputs": [
    {
     "ename": "NameError",
     "evalue": "name 'interseccionServidumbre' is not defined",
     "output_type": "error",
     "traceback": [
      "\u001b[0;31m---------------------------------------------------------------------------\u001b[0m",
      "\u001b[0;31mNameError\u001b[0m                                 Traceback (most recent call last)",
      "\u001b[0;32m<ipython-input-19-9afa92aab327>\u001b[0m in \u001b[0;36m<module>\u001b[0;34m\u001b[0m\n\u001b[1;32m      1\u001b[0m \u001b[0meSurOri\u001b[0m \u001b[0;34m=\u001b[0m \u001b[0;34m(\u001b[0m\u001b[0;36m148.309520380615\u001b[0m\u001b[0;34m,\u001b[0m \u001b[0;34m-\u001b[0m\u001b[0;36m6.78165355950797\u001b[0m\u001b[0;34m)\u001b[0m\u001b[0;34m\u001b[0m\u001b[0;34m\u001b[0m\u001b[0m\n\u001b[0;32m----> 2\u001b[0;31m \u001b[0;32massert\u001b[0m \u001b[0minterseccionServidumbre\u001b[0m\u001b[0;34m[\u001b[0m\u001b[0;36m1\u001b[0m\u001b[0;34m]\u001b[0m\u001b[0;34m[\u001b[0m\u001b[0;36m0\u001b[0m\u001b[0;34m]\u001b[0m \u001b[0;34m-\u001b[0m \u001b[0meSurOri\u001b[0m\u001b[0;34m[\u001b[0m\u001b[0;36m0\u001b[0m\u001b[0;34m]\u001b[0m \u001b[0;34m<\u001b[0m \u001b[0;36m1e-10\u001b[0m \u001b[0;32mand\u001b[0m \u001b[0minterseccionServidumbre\u001b[0m\u001b[0;34m[\u001b[0m\u001b[0;36m1\u001b[0m\u001b[0;34m]\u001b[0m\u001b[0;34m[\u001b[0m\u001b[0;36m1\u001b[0m\u001b[0;34m]\u001b[0m \u001b[0;34m-\u001b[0m \u001b[0meSurOri\u001b[0m\u001b[0;34m[\u001b[0m\u001b[0;36m1\u001b[0m\u001b[0;34m]\u001b[0m \u001b[0;34m<\u001b[0m \u001b[0;36m1e-10\u001b[0m\u001b[0;34m\u001b[0m\u001b[0;34m\u001b[0m\u001b[0m\n\u001b[0m",
      "\u001b[0;31mNameError\u001b[0m: name 'interseccionServidumbre' is not defined"
     ]
    }
   ],
   "source": [
    "eSurOri = (148.309520380615, -6.78165355950797)\n",
    "assert interseccionServidumbre[1][0] - eSurOri[0] < 1e-10 and interseccionServidumbre[1][1] - eSurOri[1] < 1e-10"
   ]
  },
  {
   "cell_type": "code",
   "execution_count": null,
   "id": "different-financing",
   "metadata": {},
   "outputs": [],
   "source": [
    "servidumbre = np.array([eSurOri6, eSurPon6, p[idx['SurPon']], eSurOri, eSurOri6])\n",
    "reload(servidumbre)"
   ]
  },
  {
   "cell_type": "markdown",
   "id": "flexible-purple",
   "metadata": {},
   "source": [
    "## alargar servidumbre al poniente"
   ]
  },
  {
   "cell_type": "code",
   "execution_count": 28,
   "id": "determined-childhood",
   "metadata": {},
   "outputs": [
    {
     "data": {
      "text/plain": [
       "[(-146.800777374672, 12.4885755735141), (148.555174812880, -0.786684510387795)]"
      ]
     },
     "execution_count": 28,
     "metadata": {},
     "output_type": "execute_result"
    }
   ],
   "source": [
    "interseccionServidumbreNorPon = sym.solve(( \n",
    "    line(x,y, x1 = eSurPon6[0], y1 = eSurPon6[1],\n",
    "               x2 = eSurOri6[0], y2 = eSurOri6[1]),\n",
    "    circle(x,y,x1 = eSurPon6[0], y1 = eSurPon6[1],r = distancia_deslindeSur) ), \n",
    "    (x,y))\n",
    "interseccionServidumbreNorPon"
   ]
  },
  {
   "cell_type": "code",
   "execution_count": 30,
   "id": "dependent-colorado",
   "metadata": {},
   "outputs": [],
   "source": [
    "servNorPon=(-146.800777374672, 12.4885755735141)"
   ]
  },
  {
   "cell_type": "code",
   "execution_count": 29,
   "id": "according-enzyme",
   "metadata": {},
   "outputs": [
    {
     "data": {
      "text/plain": [
       "[(-147.046431806937, 6.49360652439389), (148.309520380615, -6.78165355950797)]"
      ]
     },
     "execution_count": 29,
     "metadata": {},
     "output_type": "execute_result"
    }
   ],
   "source": [
    "interseccionServidumbreSurPon = sym.solve(( \n",
    "    line(x,y, x1 = p[idx['SurPon'],0], y1 = p[idx['SurPon'],1],\n",
    "               x2 = p[idx['SurOri'],0], y2 = p[idx['SurOri'],1]),\n",
    "    circle(x,y,x1 = p[idx['SurPon'],0], y1 = p[idx['SurPon'],1],r = distancia_deslindeSur) ), \n",
    "    (x,y))\n",
    "interseccionServidumbreSurPon"
   ]
  },
  {
   "cell_type": "code",
   "execution_count": 31,
   "id": "pleased-whole",
   "metadata": {},
   "outputs": [],
   "source": [
    "servSurPon=(-147.046431806937, 6.49360652439389)"
   ]
  },
  {
   "cell_type": "markdown",
   "id": "convertible-aviation",
   "metadata": {},
   "source": [
    "# dibujar servidumbre"
   ]
  },
  {
   "cell_type": "code",
   "execution_count": 41,
   "id": "thermal-trainer",
   "metadata": {},
   "outputs": [],
   "source": [
    "def lineaEntrePtos( p1, p2, ha):\n",
    "    p1,p2 = np.array(p1), np.array(p2)\n",
    "    l = ax.plot( *np.vstack((p1,p2)).T, color='turquoise', linestyle='--', linewidth=3, alpha=0.7)\n",
    "    t = ax.text( *(p1+p2)/2, np.round(np.linalg.norm( p1 - p2),1), color='r',  ha=ha, va='center')\n",
    "    fig.canvas.draw()\n",
    "    return l,t"
   ]
  },
  {
   "cell_type": "code",
   "execution_count": 42,
   "id": "nutritional-creek",
   "metadata": {},
   "outputs": [],
   "source": [
    "lr,tr = lineaEntrePtos( eSurOri6, eSurOri, 'left')\n",
    "ll,tl = lineaEntrePtos( eSurPon6, p[idx['SurPon']], 'right')\n",
    "#lb = ax.plot( *np.vstack((eSurOri,p[idx['SurPon']])).T, color='turquoise', linestyle='--', linewidth=3, alpha=0.7)"
   ]
  },
  {
   "cell_type": "code",
   "execution_count": 43,
   "id": "satellite-apparel",
   "metadata": {},
   "outputs": [],
   "source": [
    "ls = ax.plot( *np.vstack((servNorPon,eSurOri6 )).T, color='turquoise', linestyle='--', linewidth=3, alpha=0.7)\n",
    "ln = ax.plot( *np.vstack((servSurPon,eSurOri)).T, color='turquoise', linestyle='--', linewidth=3, alpha=0.7)"
   ]
  },
  {
   "cell_type": "code",
   "execution_count": 52,
   "id": "consecutive-madison",
   "metadata": {},
   "outputs": [],
   "source": [
    "fig.canvas.draw()"
   ]
  },
  {
   "cell_type": "code",
   "execution_count": 46,
   "id": "invisible-clone",
   "metadata": {},
   "outputs": [
    {
     "data": {
      "text/plain": [
       "((-124.53249626502597, 303.5237450143558),\n",
       " (-14.9245465278523, 191.4097527816536))"
      ]
     },
     "execution_count": 46,
     "metadata": {},
     "output_type": "execute_result"
    }
   ],
   "source": [
    "ax.get_xlim(), ax.get_ylim()"
   ]
  },
  {
   "cell_type": "code",
   "execution_count": 51,
   "id": "similar-foundation",
   "metadata": {},
   "outputs": [
    {
     "data": {
      "text/plain": [
       "(-14.9245465278523, 191.4097527816536)"
      ]
     },
     "execution_count": 51,
     "metadata": {},
     "output_type": "execute_result"
    }
   ],
   "source": [
    "ax.set_xlim((-124.53249626502597, 303.5237450143558))\n",
    "ax.set_ylim((-14.9245465278523, 191.4097527816536))"
   ]
  },
  {
   "cell_type": "code",
   "execution_count": null,
   "id": "religious-spending",
   "metadata": {},
   "outputs": [],
   "source": [
    "lr[0].remove()"
   ]
  },
  {
   "cell_type": "code",
   "execution_count": null,
   "id": "sophisticated-siemens",
   "metadata": {},
   "outputs": [],
   "source": [
    "plt.show()"
   ]
  },
  {
   "cell_type": "code",
   "execution_count": null,
   "id": "worldwide-trial",
   "metadata": {},
   "outputs": [],
   "source": [
    "np.vstack((np.array(eSurOri6), np.array(eSurOri))).T, np.vstack((eSurPon6, p[idx['SurPon']])).T"
   ]
  },
  {
   "cell_type": "markdown",
   "id": "related-compromise",
   "metadata": {},
   "source": [
    "## Check\n",
    " - La distancia entre la esquina Sur Poniente medida conjunta y la propuesta son 6 metros"
   ]
  },
  {
   "cell_type": "code",
   "execution_count": null,
   "id": "consistent-conversion",
   "metadata": {},
   "outputs": [],
   "source": [
    "assert 6 == np.linalg.norm( propuesta[idx['SurPon']] - conjunta[idx['SurPon']] )"
   ]
  },
  {
   "cell_type": "markdown",
   "id": "impressive-garbage",
   "metadata": {},
   "source": [
    " - Las lineas definidas por el deslinde de la servidumbre y la propuesta son paralelas"
   ]
  },
  {
   "cell_type": "code",
   "execution_count": null,
   "id": "beautiful-spanking",
   "metadata": {},
   "outputs": [],
   "source": [
    "assert slope(p[idx['SurOri']], p[idx['SurPon']]) - slope(eSurPon6, eSurOri6) < 1e-15"
   ]
  },
  {
   "cell_type": "markdown",
   "id": "ignored-excerpt",
   "metadata": {},
   "source": [
    "# Dibujar la servidumbre"
   ]
  },
  {
   "cell_type": "code",
   "execution_count": null,
   "id": "coastal-curve",
   "metadata": {},
   "outputs": [],
   "source": [
    "interseccionC = sym.solve(( \n",
    "    line(x,y,  x1 = p[idx['SurPon'],0], y1 = p[idx['SurPon'],1],\n",
    "               x2 = p[idx['SurOri'],0], y2 = p[idx['SurOri'],1]),\n",
    "    circle(x,y,x1 = p[idx['SurPon'],0], y1 = p[idx['SurPon'],1],r = distancia_deslindeSur) ), \n",
    "    (x,y))\n",
    "interseccionC"
   ]
  },
  {
   "cell_type": "code",
   "execution_count": null,
   "id": "medical-inquiry",
   "metadata": {},
   "outputs": [],
   "source": [
    "servidumbre = np.array([  ])"
   ]
  },
  {
   "cell_type": "code",
   "execution_count": null,
   "id": "disciplinary-holiday",
   "metadata": {},
   "outputs": [],
   "source": []
  },
  {
   "cell_type": "code",
   "execution_count": null,
   "id": "precious-singles",
   "metadata": {},
   "outputs": [],
   "source": [
    "slope(eSurPon6,eSurOri6)"
   ]
  },
  {
   "cell_type": "code",
   "execution_count": null,
   "id": "immune-disorder",
   "metadata": {},
   "outputs": [],
   "source": []
  },
  {
   "cell_type": "markdown",
   "id": "running-encoding",
   "metadata": {},
   "source": [
    "# Redibujo escritura"
   ]
  },
  {
   "cell_type": "code",
   "execution_count": null,
   "id": "liquid-trout",
   "metadata": {},
   "outputs": [],
   "source": [
    "escritura_informe2 = np.array([(0.6316884466397772, -0.14404252868571377),  \n",
    "         (154.30300909939984, -10.15054354761331),  \n",
    "         (209.51873007449916, 336.51651865862505),  \n",
    "         (6.785054605092211, 87.22766713826408),\n",
    "         (0.6316884466397772, -0.14404252868571377)])\n",
    "#reload(escritura_informe2)"
   ]
  },
  {
   "cell_type": "code",
   "execution_count": null,
   "id": "honest-vertex",
   "metadata": {},
   "outputs": [],
   "source": [
    "x,y,x1,y1,x2,y2,x3,y3 = sym.symbols('x,y,x1,y1,x2,y2,x3,y3')"
   ]
  },
  {
   "cell_type": "markdown",
   "id": "minus-profile",
   "metadata": {},
   "source": [
    "-x,y = eSurPon6\n",
    "-x1,y1 -> eSurOri, slope (sSur*6), p=eSurPon6\n",
    "-x2,y2 -> eNorOri, area\n",
    "-x3,y3 -> eNorPon, slope (cjta*Pon), p=eSurPon6"
   ]
  },
  {
   "cell_type": "code",
   "execution_count": null,
   "id": "mediterranean-curtis",
   "metadata": {},
   "outputs": [],
   "source": [
    "mSur = slope(eSurOri6, eSurPon6)\n",
    "mPon = slope(conjunta[idx['NorPon']], conjunta[idx['SurPon']])\n",
    "mSur, mPon"
   ]
  },
  {
   "cell_type": "code",
   "execution_count": null,
   "id": "furnished-baltimore",
   "metadata": {},
   "outputs": [],
   "source": [
    "sym.solve(( mline( x1,y1, eSurPon6[0], eSurPon6[1], mSur),\n",
    "            circle( eSurPon6[0], eSurPon6[1], x1,y1, 154) ,\n",
    "          ), (x1,y1))"
   ]
  },
  {
   "cell_type": "code",
   "execution_count": null,
   "id": "outdoor-audience",
   "metadata": {},
   "outputs": [],
   "source": [
    "x1, y1 = (154.721878521693, -1.06385717269079)"
   ]
  },
  {
   "cell_type": "code",
   "execution_count": null,
   "id": "anticipated-election",
   "metadata": {
    "tags": []
   },
   "outputs": [],
   "source": [
    "dibujoEscritura = sym.solve((\n",
    "    area( eSurPon6[0], eSurPon6[1], x1,y1, x2,y2, x3,y3) - 35000,\n",
    "    mline( x3,y3, eSurPon6[0], eSurPon6[1], mPon),\n",
    "    circle( x1,y1, x2,y2, 351),\n",
    "    circle( x2,y2, x3,y3, 301.2)\n",
    "    ),( x2,y2, x3,y3))\n",
    "dibujoEscritura"
   ]
  },
  {
   "cell_type": "code",
   "execution_count": null,
   "id": "painted-generator",
   "metadata": {},
   "outputs": [],
   "source": [
    "slope(eSurOri6, eSurPon6)"
   ]
  },
  {
   "cell_type": "code",
   "execution_count": null,
   "id": "innocent-clause",
   "metadata": {},
   "outputs": [],
   "source": [
    "slope(conjunta[idx['NorPon']], conjunta[idx['SurPon']])"
   ]
  },
  {
   "cell_type": "code",
   "execution_count": null,
   "id": "comprehensive-burns",
   "metadata": {},
   "outputs": [],
   "source": []
  },
  {
   "cell_type": "code",
   "execution_count": null,
   "id": "polyphonic-thesaurus",
   "metadata": {},
   "outputs": [],
   "source": [
    "escritura_informe3 = np.array([(0.877198719103847, 5.85094553156313),  \n",
    "         (154.721878521693, -1.06385717269079),  \n",
    "         (209.51873007449916, 336.51651865862505),  \n",
    "         (6.785054605092211, 87.22766713826408),\n",
    "         (0.877198719103847, 5.85094553156313)])\n",
    "reload(escritura_informe3)"
   ]
  },
  {
   "cell_type": "code",
   "execution_count": null,
   "id": "tough-latter",
   "metadata": {},
   "outputs": [],
   "source": []
  },
  {
   "cell_type": "code",
   "execution_count": null,
   "id": "dried-influence",
   "metadata": {},
   "outputs": [],
   "source": [
    "triangleArea(301.2, 154, 351)"
   ]
  },
  {
   "cell_type": "code",
   "execution_count": null,
   "id": "toxic-insertion",
   "metadata": {},
   "outputs": [],
   "source": [
    "145-85"
   ]
  },
  {
   "cell_type": "code",
   "execution_count": null,
   "id": "indie-company",
   "metadata": {},
   "outputs": [],
   "source": []
  }
 ],
 "metadata": {
  "kernelspec": {
   "display_name": "Python 3",
   "language": "python",
   "name": "python3"
  },
  "language_info": {
   "codemirror_mode": {
    "name": "ipython",
    "version": 3
   },
   "file_extension": ".py",
   "mimetype": "text/x-python",
   "name": "python",
   "nbconvert_exporter": "python",
   "pygments_lexer": "ipython3",
   "version": "3.9.2"
  }
 },
 "nbformat": 4,
 "nbformat_minor": 5
}

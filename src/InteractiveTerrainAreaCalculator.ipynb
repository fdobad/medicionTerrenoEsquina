{
 "cells": [
  {
   "cell_type": "code",
   "execution_count": null,
   "id": "empty-blackberry",
   "metadata": {},
   "outputs": [],
   "source": [
    "# usign tk backend\n",
    "%matplotlib tk\n",
    "import numpy as np\n",
    "import matplotlib.pyplot as plt\n",
    "from matplotlib.widgets import PolygonSelector\n",
    "from matplotlib.path import Path\n",
    "import PIL\n",
    "# helper functions\n",
    "edgeText = []\n",
    "#vertText = []\n",
    "titleText = None\n",
    "def onselect(points):\n",
    "    '''PolygonSelector callback: calculate distances & show edge, verts & area stats\n",
    "    '''\n",
    "    global vertText, edgeText, titleText\n",
    "    #assert points==ps.verts\n",
    "    points = np.array(points)\n",
    "    n=len(points)\n",
    "    distances = [ np.round(np.linalg.norm( points[i] - points[ (i+1)%n ] ),1) for i in range(n) ]\n",
    "    if not edgeText is []:\n",
    "        [ t.remove() for t in edgeText ]\n",
    "    edgeText = [ ax.text( *(points[i]+points[ (i+1)%n ])/2 , distances[i] , color='r') for i in range(n) ]\n",
    "    #if not vertText is []:\n",
    "    #    [ t.remove() for t in vertText ]\n",
    "    #vertText = [ ax.text( *points[i] , f\"{i}:{np.round(points[i],2)}\" , color='r') for i in range(n) ]\n",
    "    if not titleText is None:\n",
    "        titleText.remove()\n",
    "    titleText = ax.text( 0,-5, f\"area: {np.round(polygonArea(points),2)}\" , va='top', color='r')\n",
    "\n",
    "def polygonArea(poly):\n",
    "    '''Points should be anticlockwise ordered\n",
    "    '''\n",
    "    n=len(poly)\n",
    "    assert poly.shape[1]==2\n",
    "    area=0\n",
    "    for i in range(n):\n",
    "        area+=np.linalg.det( [poly[i].T,poly[(i+1)%n].T] )\n",
    "    a = area/2\n",
    "    b = sum([ np.linalg.det( [poly[i].T,poly[(i+1)%n].T] ) for i in range(len(poly)) ])/2\n",
    "    assert abs(a-b)<1e-15\n",
    "    return b\n",
    "\n",
    "def triangleArea(a,b,c):\n",
    "    ''' Triangle area knowing sides\n",
    "    Heron's Formula\n",
    "    '''\n",
    "    s = a+b+c\n",
    "    return np.sqrt(s*(s-a)*(s-b)*(s-c))"
   ]
  },
  {
   "cell_type": "markdown",
   "id": "blank-profession",
   "metadata": {},
   "source": [
    "# Adjust the google earth image to 1m == 1 (matplotlib data) point"
   ]
  },
  {
   "cell_type": "code",
   "execution_count": null,
   "id": "returning-asbestos",
   "metadata": {},
   "outputs": [],
   "source": [
    "img=PIL.Image.open('terrenobase.png')\n",
    "px_width, px_height = img.size\n",
    "# diagonal meters. Check \"camera\" legend in image\n",
    "m_diag = 774\n",
    "# Side meters follow the image w/h ratio\n",
    "m_width = np.sqrt(m_diag**2 / ((px_height/px_width)**2+1))\n",
    "m_height =np.sqrt(m_diag**2 / ((px_width/px_height)**2+1))\n",
    "# Verify\n",
    "# Calculated sides make a squared-angle triangle\n",
    "assert abs( m_diag - np.sqrt(m_width**2+m_height**2) ) < 1e-15\n",
    "# Calculated sides yield the same proportion\n",
    "assert abs( m_width/m_height - px_width/px_height ) < 1e-15\n",
    "#"
   ]
  },
  {
   "cell_type": "code",
   "execution_count": null,
   "id": "oriented-polish",
   "metadata": {},
   "outputs": [],
   "source": [
    "# BEGIN manually adjusting\n",
    "# Image position to align the bottom left corner of region of interest to 0,0\n",
    "left, right, bottom, top  = -125, 541, -43, 348\n",
    "# Verify the selected numbers resize the image to 1 m == 1 data point\n",
    "assert right-left - m_width < 1\n",
    "assert top - bottom - m_height < 1"
   ]
  },
  {
   "cell_type": "markdown",
   "id": "comfortable-surface",
   "metadata": {},
   "source": [
    "# Show figure"
   ]
  },
  {
   "cell_type": "code",
   "execution_count": null,
   "id": "theoretical-adoption",
   "metadata": {},
   "outputs": [],
   "source": [
    "plt.close('all')\n",
    "plt.ioff()\n",
    "fig, ax = plt.subplots()\n",
    "imshow=ax.imshow(img, extent=(left, right, bottom, top))"
   ]
  },
  {
   "cell_type": "raw",
   "id": "afraid-supplement",
   "metadata": {},
   "source": [
    "imshow.remove()\n",
    "# END manually adjusting"
   ]
  },
  {
   "cell_type": "markdown",
   "id": "residential-token",
   "metadata": {},
   "source": [
    "# Make the Polygon Selector"
   ]
  },
  {
   "cell_type": "code",
   "execution_count": null,
   "id": "extensive-holocaust",
   "metadata": {},
   "outputs": [],
   "source": [
    "ps = PolygonSelector(ax, onselect, useblit=False, \n",
    "                     lineprops=dict(color='red', linestyle='--', linewidth=3, alpha=0.4)\n",
    "                     , markerprops=dict(marker='o', markersize=6, mec='red', mfc='white', alpha=0.3),\n",
    "                     vertex_select_radius=15)\n",
    "\n",
    "print(\"Select points in the figure by enclosing them within a polygon.\")\n",
    "print(\"Press the 'esc' key to start a new polygon.\")\n",
    "print(\"Try holding the 'shift' key to move all of the vertices.\")\n",
    "print(\"Try holding the 'ctrl' key to move a single vertex.\")\n",
    "\n",
    "#plt.show()"
   ]
  },
  {
   "cell_type": "markdown",
   "id": "exact-interest",
   "metadata": {},
   "source": [
    "# Helpers to get live figure data"
   ]
  },
  {
   "cell_type": "code",
   "execution_count": null,
   "id": "saving-prophet",
   "metadata": {},
   "outputs": [],
   "source": [
    "# points\n",
    "ps.verts"
   ]
  },
  {
   "cell_type": "code",
   "execution_count": null,
   "id": "integral-level",
   "metadata": {},
   "outputs": [],
   "source": [
    "# area\n",
    "np.round(polygonArea(np.array(ps.verts)),2)"
   ]
  },
  {
   "cell_type": "code",
   "execution_count": null,
   "id": "mature-mileage",
   "metadata": {},
   "outputs": [],
   "source": [
    "# distances\n",
    "points=np.array(ps.verts)\n",
    "[ np.round(np.linalg.norm( points[i] - points[ (i+1)%4 ] ),2) for i in range(4) ]"
   ]
  },
  {
   "cell_type": "markdown",
   "id": "fuzzy-instruction",
   "metadata": {},
   "source": [
    "# Informe 3\n",
    "## Reload previous polygon"
   ]
  },
  {
   "cell_type": "code",
   "execution_count": null,
   "id": "effective-major",
   "metadata": {},
   "outputs": [],
   "source": [
    "def reload(arr):\n",
    "    ps._xs, ps._ys = arr.T \n",
    "    ps.onselect(ps.verts)\n",
    "    fig.canvas.draw()\n",
    "    plt.show()"
   ]
  },
  {
   "cell_type": "code",
   "execution_count": null,
   "id": "wrong-chuck",
   "metadata": {},
   "outputs": [],
   "source": [
    "idx = { 'SurPon':0, 'SurOri':1, 'NorOri':2, 'NorPon':3 }"
   ]
  },
  {
   "cell_type": "code",
   "execution_count": null,
   "id": "global-ballot",
   "metadata": {},
   "outputs": [],
   "source": [
    "medicion_conjunta = np.array([(0.6315442868393308, -0.14402351755704057),\n",
    "                        (85.5786272609407, -3.9621101736671553),\n",
    "                        (281.23482636463547, 147.70882955020787),\n",
    "                        (7.920442067030843, 177.73478042519938),\n",
    "                        (0.6315442868393308, -0.14402351755704057)])"
   ]
  },
  {
   "cell_type": "code",
   "execution_count": null,
   "id": "dense-arbor",
   "metadata": {},
   "outputs": [],
   "source": [
    "reload(medicion_conjunta)"
   ]
  },
  {
   "cell_type": "markdown",
   "id": "innocent-trick",
   "metadata": {},
   "source": [
    "## Correccion escritura\n",
    "Fe de erratas eran 301.2 y no 321.2 metros del deslinde norte."
   ]
  },
  {
   "cell_type": "code",
   "execution_count": null,
   "id": "increasing-insight",
   "metadata": {},
   "outputs": [],
   "source": [
    "escritura_informe3 = np.array([(0.877198719103847, 5.85094553156313),  \n",
    "         (154.721878521693, -1.06385717269079),  \n",
    "         (209.51873007449916, 336.51651865862505),  \n",
    "         (6.785054605092211, 87.22766713826408),\n",
    "         (0.877198719103847, 5.85094553156313)])"
   ]
  },
  {
   "cell_type": "code",
   "execution_count": null,
   "id": "focused-cabin",
   "metadata": {},
   "outputs": [],
   "source": [
    "reload(escritura_informe3)"
   ]
  },
  {
   "cell_type": "markdown",
   "id": "valid-separate",
   "metadata": {},
   "source": [
    "    - Area: 35003.14\n",
    "    - Lados:[154.0, 351.01, 301.21, 99.13]\n",
    "    - Vertices: [(0.877198719103847, 5.85094553156313),\n",
    "             (154.721878521693, -1.06385717269079),\n",
    "             (183.65755665132798, 348.7481825616679),\n",
    "             (6.987020216055263, 104.79223524407261)]"
   ]
  },
  {
   "cell_type": "markdown",
   "id": "boolean-longitude",
   "metadata": {},
   "source": [
    "## Calculo propuesta final"
   ]
  },
  {
   "cell_type": "markdown",
   "id": "compatible-guarantee",
   "metadata": {},
   "source": [
    "### Symbolic functions for handling lines, distance and area equations"
   ]
  },
  {
   "cell_type": "code",
   "execution_count": null,
   "id": "loving-gross",
   "metadata": {},
   "outputs": [],
   "source": [
    "import numpy as np\n",
    "import sympy as sym"
   ]
  },
  {
   "cell_type": "code",
   "execution_count": null,
   "id": "broken-variation",
   "metadata": {},
   "outputs": [],
   "source": [
    "x,y = sym.symbols('x,y')"
   ]
  },
  {
   "cell_type": "code",
   "execution_count": null,
   "id": "authentic-detail",
   "metadata": {},
   "outputs": [],
   "source": [
    "def line(x,y,x1,y1,x2,y2):\n",
    "    return ( y1 - y2 ) * x + ( x2 - x1 ) * y + ( x1*y2 - x2*y1 )\n",
    "def slope(p1,p2):\n",
    "    px1, py1 = p1\n",
    "    px2, py2 = p2\n",
    "    return (py2-py1)/(px2-px1)\n",
    "def mline(x,y,x1,y1,m):\n",
    "    return (y-y1) - m*(x-x1)\n",
    "def circle(x,y,x1,y1,r):\n",
    "    return (x1-x)**2+(y1-y)**2-r**2\n",
    "def area(x,y,x1,y1,x2,y2,x3,y3):\n",
    "    return 1/2*( x*y1 - x1*y  +\n",
    "                x1*y2 - x2*y1 +\n",
    "                x2*y3 - x3*y2 + \n",
    "                x3*y  -  x*y3 )"
   ]
  },
  {
   "cell_type": "markdown",
   "id": "infrared-spirit",
   "metadata": {},
   "source": [
    "### Encontrar el punto 6 metros hacia arriba de la esquina Sur Poniente, sobre el deslinde Poniente\n",
    "Es la interseccion entre:\n",
    " - la linea que define el deslinde poniente (definida por los puntos 1 y 2) \n",
    " - Un círculo de radio 6 centrado en la esquina Sur Poniente"
   ]
  },
  {
   "cell_type": "code",
   "execution_count": null,
   "id": "agreed-infrared",
   "metadata": {},
   "outputs": [],
   "source": [
    "# simplificar\n",
    "p = medicion_conjunta"
   ]
  },
  {
   "cell_type": "code",
   "execution_count": null,
   "id": "british-carry",
   "metadata": {},
   "outputs": [],
   "source": [
    "interseccionA = sym.solve(( \n",
    "    line(x,y,  x1 = p[idx['SurPon'],0], y1 = p[idx['SurPon'],1],\n",
    "               x2 = p[idx['NorPon'],0], y2 = p[idx['NorPon'],1]),\n",
    "    circle(x,y,x1 = p[idx['SurPon'],0], y1 = p[idx['SurPon'],1],r = 6) ), \n",
    "    (x,y))\n",
    "interseccionA"
   ]
  },
  {
   "cell_type": "code",
   "execution_count": null,
   "id": "dried-clerk",
   "metadata": {},
   "outputs": [],
   "source": [
    "eSurPon6 = (0.877198719103847, 5.85094553156313)\n",
    "assert interseccionA[1][0] - eSurPon6[0] < 1e-15 and interseccionA[1][1] - eSurPon6[1] < 1e-15"
   ]
  },
  {
   "cell_type": "markdown",
   "id": "encouraging-curtis",
   "metadata": {},
   "source": [
    "### Encontrar la nueva esquina Sur Oriente\n",
    "Definida sobre una línea paralela al deslinde medido en conjunto (que incluye la servidumbre), 6 metros más arriba (pasando por el punto encontrado anteriormente); hasta completar las 3,5 há."
   ]
  },
  {
   "cell_type": "code",
   "execution_count": null,
   "id": "homeless-stanley",
   "metadata": {},
   "outputs": [],
   "source": [
    "# pendiente del deslinde medido Sur\n",
    "mS = slope(p[idx['SurOri']], p[idx['SurPon']])\n",
    "mS"
   ]
  },
  {
   "cell_type": "code",
   "execution_count": null,
   "id": "grand-adelaide",
   "metadata": {},
   "outputs": [],
   "source": [
    "interseccionB = sym.solve(( \n",
    "    mline(x,y,x1 = eSurPon6[0], y1 = eSurPon6[1], m = mS),\n",
    "    area(x,y,x1 = p[idx['NorOri'],0], y1 = p[idx['NorOri'],1],\n",
    "             x2 = p[idx['NorPon'],0], y2 = p[idx['NorPon'],1],\n",
    "             x3 = eSurPon6[0]       , y3 = eSurPon6[1]       ) - 35000\n",
    "    ),(x,y))\n",
    "interseccionB"
   ]
  },
  {
   "cell_type": "code",
   "execution_count": null,
   "id": "important-interim",
   "metadata": {},
   "outputs": [],
   "source": [
    "eSurOri6=(148.555174812880,-0.786684510387803)\n",
    "assert interseccionB[x] - eSurOri6[0] < 1e-10 and interseccionB[y] - eSurOri6[1] < 1e-10"
   ]
  },
  {
   "cell_type": "markdown",
   "id": "filled-chocolate",
   "metadata": {},
   "source": [
    "### Propuesta"
   ]
  },
  {
   "cell_type": "code",
   "execution_count": null,
   "id": "ambient-madonna",
   "metadata": {},
   "outputs": [],
   "source": [
    "#idx = { 'SurPon':0, 'SurOri':1, 'NorOri':2, 'NorPon':3 }\n",
    "propuesta = np.array([ eSurPon6,\n",
    "                  eSurOri6,\n",
    "                  p[idx['NorOri']],\n",
    "                  p[idx['NorPon']],\n",
    "                  eSurPon6 ])"
   ]
  },
  {
   "cell_type": "code",
   "execution_count": null,
   "id": "exciting-mirror",
   "metadata": {},
   "outputs": [],
   "source": [
    "reload(propuesta)"
   ]
  },
  {
   "cell_type": "markdown",
   "id": "compressed-circuit",
   "metadata": {},
   "source": [
    "    - Area: 35000.0\n",
    "    - Lados: [147.83, 199.14, 274.96, 172.03]\n",
    "    - Vértices: [(0.877198719103847, 5.85094553156313),\n",
    "            (148.55517481288, -0.786684510387803),\n",
    "            (281.23482636463547, 147.70882955020787),\n",
    "            (7.920442067030843, 177.73478042519938)]"
   ]
  },
  {
   "cell_type": "code",
   "execution_count": null,
   "id": "innovative-replacement",
   "metadata": {},
   "outputs": [],
   "source": [
    "propuesta = np.array([ (0.877198719103847, 5.85094553156313),\n",
    "        (148.55517481288, -0.786684510387803),\n",
    "        (281.23482636463547, 147.70882955020787),\n",
    "        (7.920442067030843, 177.73478042519938),\n",
    "                     (0.877198719103847, 5.85094553156313)] )"
   ]
  },
  {
   "cell_type": "markdown",
   "id": "distinguished-rhythm",
   "metadata": {},
   "source": [
    "## Dibujo servidumbre\n",
    "### Encontrar el limite oriente de la servidumbre\n",
    "Desde el deslinde Poniente"
   ]
  },
  {
   "cell_type": "code",
   "execution_count": null,
   "id": "going-elite",
   "metadata": {},
   "outputs": [],
   "source": [
    "distancia_deslindeSur = np.linalg.norm( np.array(eSurPon6) - np.array(eSurOri6) )\n",
    "distancia_deslindeSur"
   ]
  },
  {
   "cell_type": "code",
   "execution_count": null,
   "id": "attached-subject",
   "metadata": {},
   "outputs": [],
   "source": [
    "interseccionServidumbre = sym.solve(( \n",
    "    line(x,y, x1 = p[idx['SurPon'],0], y1 = p[idx['SurPon'],1],\n",
    "               x2 = p[idx['SurOri'],0], y2 = p[idx['SurOri'],1]),\n",
    "    circle(x,y,x1 = p[idx['SurPon'],0], y1 = p[idx['SurPon'],1],r = distancia_deslindeSur) ), \n",
    "    (x,y))\n",
    "interseccionServidumbre"
   ]
  },
  {
   "cell_type": "code",
   "execution_count": null,
   "id": "numeric-filling",
   "metadata": {},
   "outputs": [],
   "source": [
    "eSurOri = (148.309520380615, -6.78165355950797)\n",
    "assert interseccionServidumbre[1][0] - eSurOri[0] < 1e-10 and interseccionServidumbre[1][1] - eSurOri[1] < 1e-10"
   ]
  },
  {
   "cell_type": "code",
   "execution_count": null,
   "id": "experimental-nylon",
   "metadata": {},
   "outputs": [],
   "source": [
    "servidumbre = np.array([eSurOri6, eSurPon6, p[idx['SurPon']], eSurOri, eSurOri6])\n",
    "reload(servidumbre)"
   ]
  },
  {
   "cell_type": "markdown",
   "id": "executive-northern",
   "metadata": {},
   "source": [
    "### alargar servidumbre al poniente"
   ]
  },
  {
   "cell_type": "code",
   "execution_count": null,
   "id": "lyric-certification",
   "metadata": {},
   "outputs": [],
   "source": [
    "interseccionServidumbreNorPon = sym.solve(( \n",
    "    line(x,y, x1 = eSurPon6[0], y1 = eSurPon6[1],\n",
    "               x2 = eSurOri6[0], y2 = eSurOri6[1]),\n",
    "    circle(x,y,x1 = eSurPon6[0], y1 = eSurPon6[1],r = distancia_deslindeSur) ), \n",
    "    (x,y))\n",
    "interseccionServidumbreNorPon"
   ]
  },
  {
   "cell_type": "code",
   "execution_count": null,
   "id": "israeli-secondary",
   "metadata": {},
   "outputs": [],
   "source": [
    "servNorPon=(-146.800777374672, 12.4885755735141)"
   ]
  },
  {
   "cell_type": "code",
   "execution_count": null,
   "id": "driving-canon",
   "metadata": {},
   "outputs": [],
   "source": [
    "interseccionServidumbreSurPon = sym.solve(( \n",
    "    line(x,y, x1 = p[idx['SurPon'],0], y1 = p[idx['SurPon'],1],\n",
    "               x2 = p[idx['SurOri'],0], y2 = p[idx['SurOri'],1]),\n",
    "    circle(x,y,x1 = p[idx['SurPon'],0], y1 = p[idx['SurPon'],1],r = distancia_deslindeSur) ), \n",
    "    (x,y))\n",
    "interseccionServidumbreSurPon"
   ]
  },
  {
   "cell_type": "code",
   "execution_count": null,
   "id": "prime-marble",
   "metadata": {},
   "outputs": [],
   "source": [
    "servSurPon=(-147.046431806937, 6.49360652439389)"
   ]
  },
  {
   "cell_type": "markdown",
   "id": "broke-alpha",
   "metadata": {},
   "source": [
    "## dibujo"
   ]
  },
  {
   "cell_type": "code",
   "execution_count": null,
   "id": "familiar-illustration",
   "metadata": {},
   "outputs": [],
   "source": [
    "def lineaEntrePtos( p1, p2, ha):\n",
    "    p1,p2 = np.array(p1), np.array(p2)\n",
    "    l = ax.plot( *np.vstack((p1,p2)).T, color='turquoise', linestyle='--', linewidth=3, alpha=0.7)\n",
    "    t = ax.text( *(p1+p2)/2, np.round(np.linalg.norm( p1 - p2),1), color='r',  ha=ha, va='center')\n",
    "    fig.canvas.draw()\n",
    "    return l,t"
   ]
  },
  {
   "cell_type": "code",
   "execution_count": null,
   "id": "criminal-canberra",
   "metadata": {},
   "outputs": [],
   "source": [
    "lr,tr = lineaEntrePtos( eSurOri6, eSurOri, 'left')\n",
    "ll,tl = lineaEntrePtos( eSurPon6, p[idx['SurPon']], 'right')\n",
    "#lb = ax.plot( *np.vstack((eSurOri,p[idx['SurPon']])).T, color='turquoise', linestyle='--', linewidth=3, alpha=0.7)"
   ]
  },
  {
   "cell_type": "code",
   "execution_count": null,
   "id": "focused-transsexual",
   "metadata": {},
   "outputs": [],
   "source": [
    "ls = ax.plot( *np.vstack((servNorPon,eSurOri6 )).T, color='turquoise', linestyle='--', linewidth=3, alpha=0.7)\n",
    "ln = ax.plot( *np.vstack((servSurPon,eSurOri)).T, color='turquoise', linestyle='--', linewidth=3, alpha=0.7)"
   ]
  },
  {
   "cell_type": "code",
   "execution_count": null,
   "id": "egyptian-stretch",
   "metadata": {},
   "outputs": [],
   "source": [
    "fig.canvas.draw()"
   ]
  },
  {
   "cell_type": "code",
   "execution_count": null,
   "id": "exact-chocolate",
   "metadata": {},
   "outputs": [],
   "source": [
    "ax.get_xlim(), ax.get_ylim()"
   ]
  },
  {
   "cell_type": "code",
   "execution_count": null,
   "id": "inside-directory",
   "metadata": {},
   "outputs": [],
   "source": [
    "# nvos limites foto\n",
    "ax.set_xlim((-124.53249626502597, 303.5237450143558))\n",
    "ax.set_ylim((-14.9245465278523, 191.4097527816536))"
   ]
  },
  {
   "cell_type": "code",
   "execution_count": null,
   "id": "alleged-miniature",
   "metadata": {},
   "outputs": [],
   "source": [
    "plt.show()"
   ]
  },
  {
   "cell_type": "markdown",
   "id": "consecutive-notebook",
   "metadata": {},
   "source": [
    "## Verificaciones\n",
    " - La distancia entre la esquina Sur Poniente medida conjunta y la propuesta son 6 metros"
   ]
  },
  {
   "cell_type": "code",
   "execution_count": null,
   "id": "governmental-timeline",
   "metadata": {},
   "outputs": [],
   "source": [
    "assert 6 == np.linalg.norm( propuesta[idx['SurPon']] - conjunta[idx['SurPon']] )"
   ]
  },
  {
   "cell_type": "markdown",
   "id": "external-cleveland",
   "metadata": {},
   "source": [
    " - Las lineas definidas por el deslinde de la servidumbre y la propuesta son paralelas"
   ]
  },
  {
   "cell_type": "code",
   "execution_count": null,
   "id": "conservative-house",
   "metadata": {},
   "outputs": [],
   "source": [
    "assert slope(p[idx['SurOri']], p[idx['SurPon']]) - slope(eSurPon6, eSurOri6) < 1e-15"
   ]
  }
 ],
 "metadata": {
  "kernelspec": {
   "display_name": "Python 3",
   "language": "python",
   "name": "python3"
  },
  "language_info": {
   "codemirror_mode": {
    "name": "ipython",
    "version": 3
   },
   "file_extension": ".py",
   "mimetype": "text/x-python",
   "name": "python",
   "nbconvert_exporter": "python",
   "pygments_lexer": "ipython3",
   "version": "3.9.2"
  }
 },
 "nbformat": 4,
 "nbformat_minor": 5
}
